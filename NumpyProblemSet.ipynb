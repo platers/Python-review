{
 "cells": [
  {
   "cell_type": "markdown",
   "metadata": {},
   "source": [
    "# Numpy Review Problem Set"
   ]
  },
  {
   "cell_type": "code",
   "execution_count": 2,
   "metadata": {
    "collapsed": true
   },
   "outputs": [],
   "source": [
    "import numpy as np"
   ]
  },
  {
   "cell_type": "markdown",
   "metadata": {},
   "source": [
    "#### Create an all zero numpy array of size 1000"
   ]
  },
  {
   "cell_type": "code",
   "execution_count": 7,
   "metadata": {
    "collapsed": false
   },
   "outputs": [],
   "source": [
    "# write code here\n",
    "z = np.zeros(1000)"
   ]
  },
  {
   "cell_type": "markdown",
   "metadata": {},
   "source": [
    "#### Create a numpy array from all digits between [0,1000) that are divisible by five"
   ]
  },
  {
   "cell_type": "code",
   "execution_count": 6,
   "metadata": {
    "collapsed": false
   },
   "outputs": [
    {
     "name": "stdout",
     "output_type": "stream",
     "text": [
      "[   0    5   10   15   20   25   30   35   40   45   50   55   60   65   70\n",
      "   75   80   85   90   95  100  105  110  115  120  125  130  135  140  145\n",
      "  150  155  160  165  170  175  180  185  190  195  200  205  210  215  220\n",
      "  225  230  235  240  245  250  255  260  265  270  275  280  285  290  295\n",
      "  300  305  310  315  320  325  330  335  340  345  350  355  360  365  370\n",
      "  375  380  385  390  395  400  405  410  415  420  425  430  435  440  445\n",
      "  450  455  460  465  470  475  480  485  490  495  500  505  510  515  520\n",
      "  525  530  535  540  545  550  555  560  565  570  575  580  585  590  595\n",
      "  600  605  610  615  620  625  630  635  640  645  650  655  660  665  670\n",
      "  675  680  685  690  695  700  705  710  715  720  725  730  735  740  745\n",
      "  750  755  760  765  770  775  780  785  790  795  800  805  810  815  820\n",
      "  825  830  835  840  845  850  855  860  865  870  875  880  885  890  895\n",
      "  900  905  910  915  920  925  930  935  940  945  950  955  960  965  970\n",
      "  975  980  985  990  995 1000]\n"
     ]
    }
   ],
   "source": [
    "# write code here\n",
    "a = np.arange(0, 1001, 5)\n",
    "print(a)"
   ]
  },
  {
   "cell_type": "markdown",
   "metadata": {},
   "source": [
    "#### Assign a 1 to every element divisible by 5 in the all zero array"
   ]
  },
  {
   "cell_type": "code",
   "execution_count": 10,
   "metadata": {
    "collapsed": false
   },
   "outputs": [
    {
     "name": "stdout",
     "output_type": "stream",
     "text": [
      "[ 1.  1.  1.  1.  1.]\n"
     ]
    }
   ],
   "source": [
    "# write code here\n",
    "b = z % 5 == 0\n",
    "z[b] = 1\n",
    "print(z[:5])"
   ]
  },
  {
   "cell_type": "markdown",
   "metadata": {},
   "source": [
    "#### Below is the grades for 6 students, convert to a numpy array"
   ]
  },
  {
   "cell_type": "code",
   "execution_count": 13,
   "metadata": {
    "collapsed": true
   },
   "outputs": [],
   "source": [
    "grades = [90, 94, 88, 80, 78, 85]\n",
    "# write code here\n",
    "grades = np.array(grades)"
   ]
  },
  {
   "cell_type": "markdown",
   "metadata": {},
   "source": [
    "#### Scale every grade below 90 up by 2 points"
   ]
  },
  {
   "cell_type": "code",
   "execution_count": 14,
   "metadata": {
    "collapsed": false
   },
   "outputs": [
    {
     "name": "stdout",
     "output_type": "stream",
     "text": [
      "[90 94 90 82 80 87]\n"
     ]
    }
   ],
   "source": [
    "# write code here\n",
    "b = grades < 90\n",
    "grades[b] += 2\n",
    "print(grades)"
   ]
  },
  {
   "cell_type": "markdown",
   "metadata": {},
   "source": [
    "#### Create a 10 by 10 matrix with 1 on the border 0 within the border"
   ]
  },
  {
   "cell_type": "code",
   "execution_count": 19,
   "metadata": {
    "collapsed": false
   },
   "outputs": [
    {
     "name": "stdout",
     "output_type": "stream",
     "text": [
      "[[ 1.  1.  1.  1.  1.  1.  1.  1.  1.  1.]\n",
      " [ 1.  0.  0.  0.  0.  0.  0.  0.  0.  1.]\n",
      " [ 1.  0.  0.  0.  0.  0.  0.  0.  0.  1.]\n",
      " [ 1.  0.  0.  0.  0.  0.  0.  0.  0.  1.]\n",
      " [ 1.  0.  0.  0.  0.  0.  0.  0.  0.  1.]\n",
      " [ 1.  0.  0.  0.  0.  0.  0.  0.  0.  1.]\n",
      " [ 1.  0.  0.  0.  0.  0.  0.  0.  0.  1.]\n",
      " [ 1.  0.  0.  0.  0.  0.  0.  0.  0.  1.]\n",
      " [ 1.  0.  0.  0.  0.  0.  0.  0.  0.  1.]\n",
      " [ 1.  1.  1.  1.  1.  1.  1.  1.  1.  1.]]\n"
     ]
    }
   ],
   "source": [
    "# write code here\n",
    "ten = np.ones((10, 10))\n",
    "ten[1:-1, 1:-1] = 0\n",
    "print(ten)"
   ]
  },
  {
   "cell_type": "markdown",
   "metadata": {},
   "source": [
    "## Challenge Problems"
   ]
  },
  {
   "cell_type": "markdown",
   "metadata": {},
   "source": [
    "#### Create an 10 by 10 checkerboard matrix in three lines of code.\n",
    "Below is an example of a 3 by 3 checkerboard matrix"
   ]
  },
  {
   "cell_type": "code",
   "execution_count": null,
   "metadata": {
    "collapsed": true
   },
   "outputs": [],
   "source": [
    "# [0 1 0]\n",
    "# [1 0 1]\n",
    "# [0 1 0]"
   ]
  },
  {
   "cell_type": "code",
   "execution_count": 35,
   "metadata": {
    "collapsed": false
   },
   "outputs": [
    {
     "name": "stdout",
     "output_type": "stream",
     "text": [
      "[[ 0.  1.  0.  1.  0.  1.  0.  1.  0.  1.]\n",
      " [ 1.  0.  1.  0.  1.  0.  1.  0.  1.  0.]\n",
      " [ 0.  1.  0.  1.  0.  1.  0.  1.  0.  1.]\n",
      " [ 1.  0.  1.  0.  1.  0.  1.  0.  1.  0.]\n",
      " [ 0.  1.  0.  1.  0.  1.  0.  1.  0.  1.]\n",
      " [ 1.  0.  1.  0.  1.  0.  1.  0.  1.  0.]\n",
      " [ 0.  1.  0.  1.  0.  1.  0.  1.  0.  1.]\n",
      " [ 1.  0.  1.  0.  1.  0.  1.  0.  1.  0.]\n",
      " [ 0.  1.  0.  1.  0.  1.  0.  1.  0.  1.]\n",
      " [ 1.  0.  1.  0.  1.  0.  1.  0.  1.  0.]]\n"
     ]
    }
   ],
   "source": [
    "# write code here\n",
    "ten = np.ones((10, 10))\n",
    "\n",
    "ten[0:-1:2, 0:-1:2] = 0\n",
    "ten[1::2, 1::2] = 0\n",
    "print(ten)"
   ]
  },
  {
   "cell_type": "markdown",
   "metadata": {},
   "source": [
    "#### Assume that you have an MxM array, a, and a number, n (where n < M). Using array attributes and slicing, print out the nxn subarray at the center of a (example below for n=3, M=5   -- you may assume that n is odd and that a has an odd number of rows and columns) "
   ]
  },
  {
   "cell_type": "code",
   "execution_count": 37,
   "metadata": {
    "collapsed": false
   },
   "outputs": [
    {
     "name": "stdout",
     "output_type": "stream",
     "text": [
      "[[ 0.59396952  0.95667484  0.02489916  0.32681381  0.5620066 ]\n",
      " [ 0.14375566  0.08906005  0.98016359  0.65270418  0.00997012]\n",
      " [ 0.25611891  0.14922063  0.36495177  0.91086169  0.70133683]\n",
      " [ 0.30943566  0.08507852  0.24735757  0.5457619   0.22625575]\n",
      " [ 0.15024232  0.40141253  0.60524511  0.23199982  0.44222914]]\n"
     ]
    }
   ],
   "source": [
    "#\n",
    "# 0 0 0 0 0\n",
    "# 0 X X X 0      X X X\n",
    "# 0 X X X 0 ---> X X X\n",
    "# 0 X X X 0      X X X\n",
    "# 0 0 0 0 0\n",
    "a = np.random.random((5, 5))\n",
    "print(a)"
   ]
  },
  {
   "cell_type": "code",
   "execution_count": 39,
   "metadata": {
    "collapsed": false
   },
   "outputs": [
    {
     "name": "stderr",
     "output_type": "stream",
     "text": [
      "/Users/victor/anaconda/lib/python3.6/site-packages/ipykernel/__main__.py:6: VisibleDeprecationWarning: using a non-integer number instead of an integer will result in an error in the future\n"
     ]
    },
    {
     "data": {
      "text/plain": [
       "array([[ 0.08906005,  0.98016359,  0.65270418],\n",
       "       [ 0.14922063,  0.36495177,  0.91086169],\n",
       "       [ 0.08507852,  0.24735757,  0.5457619 ]])"
      ]
     },
     "execution_count": 39,
     "metadata": {},
     "output_type": "execute_result"
    }
   ],
   "source": [
    "# write code her\n",
    "\n",
    "def thing(a, n):\n",
    "    M = len(a)\n",
    "    x = (M - n) / 2\n",
    "    return a[x: M - x, x: M - x]\n",
    "thing(a, 3)"
   ]
  },
  {
   "cell_type": "code",
   "execution_count": null,
   "metadata": {
    "collapsed": true
   },
   "outputs": [],
   "source": []
  }
 ],
 "metadata": {
  "kernelspec": {
   "display_name": "Python 3",
   "language": "python",
   "name": "python3"
  },
  "language_info": {
   "codemirror_mode": {
    "name": "ipython",
    "version": 3
   },
   "file_extension": ".py",
   "mimetype": "text/x-python",
   "name": "python",
   "nbconvert_exporter": "python",
   "pygments_lexer": "ipython3",
   "version": "3.6.0"
  }
 },
 "nbformat": 4,
 "nbformat_minor": 0
}
