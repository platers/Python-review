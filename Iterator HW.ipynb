{
 "cells": [
  {
   "cell_type": "code",
   "execution_count": 11,
   "metadata": {
    "collapsed": false
   },
   "outputs": [
    {
     "name": "stdout",
     "output_type": "stream",
     "text": [
      "[(0, 'a'), (1, 'b'), (2, 'c')]\n"
     ]
    }
   ],
   "source": [
    "x = [0, 1, 2]\n",
    "y = ['a', 'b', 'c']\n",
    "j = list(zip(x, y))\n",
    "print(j)"
   ]
  },
  {
   "cell_type": "code",
   "execution_count": 12,
   "metadata": {
    "collapsed": true
   },
   "outputs": [],
   "source": [
    "def unzip(z):\n",
    "    j = list(zip(*z))\n",
    "    return j"
   ]
  },
  {
   "cell_type": "code",
   "execution_count": 15,
   "metadata": {
    "collapsed": false
   },
   "outputs": [
    {
     "name": "stdout",
     "output_type": "stream",
     "text": [
      "[(0, 1, 2), ('a', 'b', 'c')]\n"
     ]
    }
   ],
   "source": [
    "print(unzip(j))\n",
    "from itertools import *\n",
    "from string import *\n",
    "import numpy as np"
   ]
  },
  {
   "cell_type": "markdown",
   "metadata": {},
   "source": [
    "Make function which takes a work returns alternating caps\n",
    "slices, join"
   ]
  },
  {
   "cell_type": "code",
   "execution_count": 16,
   "metadata": {
    "collapsed": false
   },
   "outputs": [
    {
     "ename": "NameError",
     "evalue": "name 'upper' is not defined",
     "output_type": "error",
     "traceback": [
      "\u001b[0;31m---------------------------------------------------------------------------\u001b[0m",
      "\u001b[0;31mNameError\u001b[0m                                 Traceback (most recent call last)",
      "\u001b[0;32m<ipython-input-16-c1cfd9b1e729>\u001b[0m in \u001b[0;36m<module>\u001b[0;34m()\u001b[0m\n\u001b[0;32m----> 1\u001b[0;31m \u001b[0mupper\u001b[0m\u001b[0;34m(\u001b[0m\u001b[0;34m\"fesf\"\u001b[0m\u001b[0;34m)\u001b[0m\u001b[0;34m\u001b[0m\u001b[0m\n\u001b[0m",
      "\u001b[0;31mNameError\u001b[0m: name 'upper' is not defined"
     ]
    }
   ],
   "source": [
    "upper(\"fesf\")"
   ]
  },
  {
   "cell_type": "code",
   "execution_count": 17,
   "metadata": {
    "collapsed": false
   },
   "outputs": [
    {
     "data": {
      "text/plain": [
       "'StUpId mEmE GeNeRaToR'"
      ]
     },
     "execution_count": 17,
     "metadata": {},
     "output_type": "execute_result"
    }
   ],
   "source": [
    "def alternate(s):\n",
    "    s = s.upper()\n",
    "    u = s[::2]\n",
    "    l = s[1::2].lower()\n",
    "    z = zip_longest(u, l, fillvalue='')\n",
    "    c = chain.from_iterable(z)\n",
    "    a = ''\n",
    "    a = a.join(c)\n",
    "    return a\n",
    "\n",
    "alternate(\"Stupid meme generator\")"
   ]
  },
  {
   "cell_type": "code",
   "execution_count": 18,
   "metadata": {
    "collapsed": true
   },
   "outputs": [],
   "source": [
    "def flip(array, t):\n",
    "    if(t == 'th'):\n",
    "        if array.ndim == 4:\n",
    "            return np.copy(array[:, :, ::-1, ::-1])\n",
    "        else:\n",
    "            return np.copy(array[:, :, ::-1, ::-1, ::-1])\n",
    "    else:\n",
    "        if array.ndim == 4:\n",
    "            return np.copy(array[::-1, ::-1, :, :])\n",
    "        else:\n",
    "            return np.copy(array[::-1, ::-1, ::-1, :, :])"
   ]
  },
  {
   "cell_type": "code",
   "execution_count": 23,
   "metadata": {
    "collapsed": false
   },
   "outputs": [
    {
     "data": {
      "text/plain": [
       "array([[[[ 0.36651123,  0.7101512 ,  0.49129739,  0.85775554,  0.03959204],\n",
       "         [ 0.63592575,  0.56875906,  0.98881386,  0.80925174,  0.37940407],\n",
       "         [ 0.47885668,  0.41036099,  0.24541726,  0.36954562,  0.27052644],\n",
       "         [ 0.50026075,  0.60430122,  0.77985825,  0.60978795,  0.05909374]],\n",
       "\n",
       "        [[ 0.12578414,  0.95156399,  0.49744782,  0.8266057 ,  0.00720605],\n",
       "         [ 0.79543939,  0.82695349,  0.23789694,  0.5400729 ,  0.26224065],\n",
       "         [ 0.47663577,  0.17781695,  0.81016411,  0.87502631,  0.52704766],\n",
       "         [ 0.4143624 ,  0.39898893,  0.09752701,  0.03224398,  0.77707722]],\n",
       "\n",
       "        [[ 0.05683116,  0.77327995,  0.47601307,  0.3751276 ,  0.28472016],\n",
       "         [ 0.59328545,  0.37296025,  0.51482821,  0.3841836 ,  0.82086692],\n",
       "         [ 0.37771169,  0.3402284 ,  0.81858558,  0.34533097,  0.35896991],\n",
       "         [ 0.10765933,  0.54696591,  0.71507531,  0.7788503 ,  0.7112338 ]]],\n",
       "\n",
       "\n",
       "       [[[ 0.7140895 ,  0.00986625,  0.87153185,  0.39936737,  0.15282591],\n",
       "         [ 0.43405122,  0.24832454,  0.02379679,  0.39207487,  0.05975621],\n",
       "         [ 0.90954066,  0.32936222,  0.00676365,  0.81181499,  0.24943566],\n",
       "         [ 0.33841762,  0.80171473,  0.44238329,  0.72716118,  0.3593131 ]],\n",
       "\n",
       "        [[ 0.51215907,  0.02361322,  0.12699976,  0.67220189,  0.80762237],\n",
       "         [ 0.51164403,  0.47893234,  0.23425304,  0.70663251,  0.08009284],\n",
       "         [ 0.59808797,  0.96579663,  0.44706642,  0.2225398 ,  0.19560017],\n",
       "         [ 0.09791213,  0.83482661,  0.69803383,  0.1716839 ,  0.88476465]],\n",
       "\n",
       "        [[ 0.60267779,  0.63547716,  0.1306386 ,  0.9406281 ,  0.68597254],\n",
       "         [ 0.06137561,  0.86175398,  0.53795586,  0.34391883,  0.32723365],\n",
       "         [ 0.76241323,  0.73941794,  0.62603826,  0.87079314,  0.7974461 ],\n",
       "         [ 0.6794277 ,  0.07730069,  0.8833223 ,  0.76680277,  0.63035465]]]])"
      ]
     },
     "execution_count": 23,
     "metadata": {},
     "output_type": "execute_result"
    }
   ],
   "source": [
    "a = np.random.random((2, 3, 4, 5))\n",
    "flip(a, 'th')"
   ]
  },
  {
   "cell_type": "code",
   "execution_count": 31,
   "metadata": {
    "collapsed": false
   },
   "outputs": [
    {
     "data": {
      "text/plain": [
       "['A', 'C', 'E', 'F']"
      ]
     },
     "execution_count": 31,
     "metadata": {},
     "output_type": "execute_result"
    }
   ],
   "source": [
    "list(compress('ABCDEF', [1,0,1,0,1,1]))"
   ]
  },
  {
   "cell_type": "code",
   "execution_count": 32,
   "metadata": {
    "collapsed": false
   },
   "outputs": [
    {
     "data": {
      "text/plain": [
       "[6, 4, 1]"
      ]
     },
     "execution_count": 32,
     "metadata": {},
     "output_type": "execute_result"
    }
   ],
   "source": [
    "list(dropwhile(lambda x: x<5, [1,4,6,4,1]))"
   ]
  },
  {
   "cell_type": "code",
   "execution_count": 36,
   "metadata": {
    "collapsed": false
   },
   "outputs": [
    {
     "data": {
      "text/plain": [
       "[32, 9, 1000]"
      ]
     },
     "execution_count": 36,
     "metadata": {},
     "output_type": "execute_result"
    }
   ],
   "source": [
    "list(starmap(pow, [(2,5), (3,2), (10,3)]))"
   ]
  },
  {
   "cell_type": "code",
   "execution_count": null,
   "metadata": {
    "collapsed": true
   },
   "outputs": [],
   "source": []
  }
 ],
 "metadata": {
  "kernelspec": {
   "display_name": "Python 3",
   "language": "python",
   "name": "python3"
  },
  "language_info": {
   "codemirror_mode": {
    "name": "ipython",
    "version": 3
   },
   "file_extension": ".py",
   "mimetype": "text/x-python",
   "name": "python",
   "nbconvert_exporter": "python",
   "pygments_lexer": "ipython3",
   "version": "3.6.0"
  }
 },
 "nbformat": 4,
 "nbformat_minor": 2
}
